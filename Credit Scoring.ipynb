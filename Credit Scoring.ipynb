{
 "cells": [
  {
   "cell_type": "code",
   "execution_count": 1,
   "metadata": {},
   "outputs": [
    {
     "name": "stderr",
     "output_type": "stream",
     "text": [
      "/anaconda3/lib/python3.6/site-packages/statsmodels/compat/pandas.py:56: FutureWarning: The pandas.core.datetools module is deprecated and will be removed in a future version. Please use the pandas.tseries module instead.\n",
      "  from pandas.core import datetools\n"
     ]
    },
    {
     "data": {
      "text/html": [
       "<div>\n",
       "<style>\n",
       "    .dataframe thead tr:only-child th {\n",
       "        text-align: right;\n",
       "    }\n",
       "\n",
       "    .dataframe thead th {\n",
       "        text-align: left;\n",
       "    }\n",
       "\n",
       "    .dataframe tbody tr th {\n",
       "        vertical-align: top;\n",
       "    }\n",
       "</style>\n",
       "<table border=\"1\" class=\"dataframe\">\n",
       "  <thead>\n",
       "    <tr style=\"text-align: right;\">\n",
       "      <th></th>\n",
       "      <th>Week1</th>\n",
       "      <th>Week2</th>\n",
       "      <th>Week3</th>\n",
       "      <th>Week4</th>\n",
       "      <th>Week5</th>\n",
       "      <th>Week6</th>\n",
       "      <th>Week7</th>\n",
       "      <th>Week8</th>\n",
       "      <th>Week9</th>\n",
       "      <th>Week10</th>\n",
       "      <th>...</th>\n",
       "      <th>Week43</th>\n",
       "      <th>Week44</th>\n",
       "      <th>Week45</th>\n",
       "      <th>Week46</th>\n",
       "      <th>Week47</th>\n",
       "      <th>Week48</th>\n",
       "      <th>Week49</th>\n",
       "      <th>Week50</th>\n",
       "      <th>Week51</th>\n",
       "      <th>Week52</th>\n",
       "    </tr>\n",
       "  </thead>\n",
       "  <tbody>\n",
       "    <tr>\n",
       "      <th>count</th>\n",
       "      <td>1275.000000</td>\n",
       "      <td>1275.000000</td>\n",
       "      <td>1275.000000</td>\n",
       "      <td>1275.000000</td>\n",
       "      <td>1275.000000</td>\n",
       "      <td>1275.000000</td>\n",
       "      <td>1275.000000</td>\n",
       "      <td>1275.000000</td>\n",
       "      <td>1275.000000</td>\n",
       "      <td>1275.000000</td>\n",
       "      <td>...</td>\n",
       "      <td>1275.000000</td>\n",
       "      <td>1275.000000</td>\n",
       "      <td>1275.000000</td>\n",
       "      <td>1275.000000</td>\n",
       "      <td>1275.000000</td>\n",
       "      <td>1275.000000</td>\n",
       "      <td>1275.000000</td>\n",
       "      <td>1275.000000</td>\n",
       "      <td>1275.000000</td>\n",
       "      <td>1275.000000</td>\n",
       "    </tr>\n",
       "    <tr>\n",
       "      <th>mean</th>\n",
       "      <td>14984.454118</td>\n",
       "      <td>16007.744314</td>\n",
       "      <td>15136.750588</td>\n",
       "      <td>15412.348235</td>\n",
       "      <td>11932.422745</td>\n",
       "      <td>18038.498824</td>\n",
       "      <td>19770.973333</td>\n",
       "      <td>18944.767059</td>\n",
       "      <td>9279.968627</td>\n",
       "      <td>23176.995294</td>\n",
       "      <td>...</td>\n",
       "      <td>13906.559216</td>\n",
       "      <td>10880.016471</td>\n",
       "      <td>9369.428235</td>\n",
       "      <td>8956.124706</td>\n",
       "      <td>9583.287059</td>\n",
       "      <td>11130.280784</td>\n",
       "      <td>13879.662745</td>\n",
       "      <td>14266.894118</td>\n",
       "      <td>10084.778039</td>\n",
       "      <td>15305.047843</td>\n",
       "    </tr>\n",
       "    <tr>\n",
       "      <th>std</th>\n",
       "      <td>34427.387470</td>\n",
       "      <td>37055.987637</td>\n",
       "      <td>35325.119529</td>\n",
       "      <td>34375.358243</td>\n",
       "      <td>26475.195702</td>\n",
       "      <td>39944.456090</td>\n",
       "      <td>47577.790608</td>\n",
       "      <td>41383.825336</td>\n",
       "      <td>20859.309558</td>\n",
       "      <td>47749.294955</td>\n",
       "      <td>...</td>\n",
       "      <td>29253.523633</td>\n",
       "      <td>24283.426121</td>\n",
       "      <td>22619.675055</td>\n",
       "      <td>21577.699170</td>\n",
       "      <td>22787.558980</td>\n",
       "      <td>25713.935543</td>\n",
       "      <td>32825.291777</td>\n",
       "      <td>32147.934363</td>\n",
       "      <td>27421.623229</td>\n",
       "      <td>34553.161918</td>\n",
       "    </tr>\n",
       "    <tr>\n",
       "      <th>min</th>\n",
       "      <td>0.000000</td>\n",
       "      <td>0.000000</td>\n",
       "      <td>0.000000</td>\n",
       "      <td>0.000000</td>\n",
       "      <td>0.000000</td>\n",
       "      <td>0.000000</td>\n",
       "      <td>0.000000</td>\n",
       "      <td>0.000000</td>\n",
       "      <td>0.000000</td>\n",
       "      <td>0.000000</td>\n",
       "      <td>...</td>\n",
       "      <td>0.000000</td>\n",
       "      <td>0.000000</td>\n",
       "      <td>0.000000</td>\n",
       "      <td>0.000000</td>\n",
       "      <td>0.000000</td>\n",
       "      <td>0.000000</td>\n",
       "      <td>0.000000</td>\n",
       "      <td>0.000000</td>\n",
       "      <td>0.000000</td>\n",
       "      <td>0.000000</td>\n",
       "    </tr>\n",
       "    <tr>\n",
       "      <th>25%</th>\n",
       "      <td>340.000000</td>\n",
       "      <td>398.500000</td>\n",
       "      <td>447.500000</td>\n",
       "      <td>503.000000</td>\n",
       "      <td>156.000000</td>\n",
       "      <td>470.500000</td>\n",
       "      <td>381.000000</td>\n",
       "      <td>420.500000</td>\n",
       "      <td>0.000000</td>\n",
       "      <td>418.000000</td>\n",
       "      <td>...</td>\n",
       "      <td>622.500000</td>\n",
       "      <td>0.000000</td>\n",
       "      <td>0.000000</td>\n",
       "      <td>0.000000</td>\n",
       "      <td>0.000000</td>\n",
       "      <td>417.000000</td>\n",
       "      <td>1070.500000</td>\n",
       "      <td>1350.500000</td>\n",
       "      <td>645.500000</td>\n",
       "      <td>1433.500000</td>\n",
       "    </tr>\n",
       "    <tr>\n",
       "      <th>50%</th>\n",
       "      <td>4213.000000</td>\n",
       "      <td>4070.000000</td>\n",
       "      <td>4155.000000</td>\n",
       "      <td>4040.000000</td>\n",
       "      <td>3137.000000</td>\n",
       "      <td>4910.000000</td>\n",
       "      <td>4931.000000</td>\n",
       "      <td>4846.000000</td>\n",
       "      <td>2024.000000</td>\n",
       "      <td>6279.000000</td>\n",
       "      <td>...</td>\n",
       "      <td>4373.000000</td>\n",
       "      <td>3555.000000</td>\n",
       "      <td>2852.000000</td>\n",
       "      <td>2518.000000</td>\n",
       "      <td>2633.000000</td>\n",
       "      <td>3998.000000</td>\n",
       "      <td>5242.000000</td>\n",
       "      <td>5125.000000</td>\n",
       "      <td>2967.000000</td>\n",
       "      <td>5116.000000</td>\n",
       "    </tr>\n",
       "    <tr>\n",
       "      <th>75%</th>\n",
       "      <td>15508.500000</td>\n",
       "      <td>14976.500000</td>\n",
       "      <td>14060.500000</td>\n",
       "      <td>14902.500000</td>\n",
       "      <td>12083.500000</td>\n",
       "      <td>17435.500000</td>\n",
       "      <td>19164.000000</td>\n",
       "      <td>19121.500000</td>\n",
       "      <td>9982.500000</td>\n",
       "      <td>25384.500000</td>\n",
       "      <td>...</td>\n",
       "      <td>16810.500000</td>\n",
       "      <td>12837.500000</td>\n",
       "      <td>10571.500000</td>\n",
       "      <td>9219.000000</td>\n",
       "      <td>10104.500000</td>\n",
       "      <td>11903.500000</td>\n",
       "      <td>14753.500000</td>\n",
       "      <td>14591.500000</td>\n",
       "      <td>9503.500000</td>\n",
       "      <td>15432.000000</td>\n",
       "    </tr>\n",
       "    <tr>\n",
       "      <th>max</th>\n",
       "      <td>651762.000000</td>\n",
       "      <td>449877.000000</td>\n",
       "      <td>507413.000000</td>\n",
       "      <td>420506.000000</td>\n",
       "      <td>309626.000000</td>\n",
       "      <td>527924.000000</td>\n",
       "      <td>668722.000000</td>\n",
       "      <td>623627.000000</td>\n",
       "      <td>336218.000000</td>\n",
       "      <td>667226.000000</td>\n",
       "      <td>...</td>\n",
       "      <td>547147.000000</td>\n",
       "      <td>554049.000000</td>\n",
       "      <td>549871.000000</td>\n",
       "      <td>529063.000000</td>\n",
       "      <td>534634.000000</td>\n",
       "      <td>506125.000000</td>\n",
       "      <td>517352.000000</td>\n",
       "      <td>524823.000000</td>\n",
       "      <td>516755.000000</td>\n",
       "      <td>518525.000000</td>\n",
       "    </tr>\n",
       "  </tbody>\n",
       "</table>\n",
       "<p>8 rows × 52 columns</p>\n",
       "</div>"
      ],
      "text/plain": [
       "               Week1          Week2          Week3          Week4  \\\n",
       "count    1275.000000    1275.000000    1275.000000    1275.000000   \n",
       "mean    14984.454118   16007.744314   15136.750588   15412.348235   \n",
       "std     34427.387470   37055.987637   35325.119529   34375.358243   \n",
       "min         0.000000       0.000000       0.000000       0.000000   \n",
       "25%       340.000000     398.500000     447.500000     503.000000   \n",
       "50%      4213.000000    4070.000000    4155.000000    4040.000000   \n",
       "75%     15508.500000   14976.500000   14060.500000   14902.500000   \n",
       "max    651762.000000  449877.000000  507413.000000  420506.000000   \n",
       "\n",
       "               Week5          Week6          Week7          Week8  \\\n",
       "count    1275.000000    1275.000000    1275.000000    1275.000000   \n",
       "mean    11932.422745   18038.498824   19770.973333   18944.767059   \n",
       "std     26475.195702   39944.456090   47577.790608   41383.825336   \n",
       "min         0.000000       0.000000       0.000000       0.000000   \n",
       "25%       156.000000     470.500000     381.000000     420.500000   \n",
       "50%      3137.000000    4910.000000    4931.000000    4846.000000   \n",
       "75%     12083.500000   17435.500000   19164.000000   19121.500000   \n",
       "max    309626.000000  527924.000000  668722.000000  623627.000000   \n",
       "\n",
       "               Week9         Week10      ...               Week43  \\\n",
       "count    1275.000000    1275.000000      ...          1275.000000   \n",
       "mean     9279.968627   23176.995294      ...         13906.559216   \n",
       "std     20859.309558   47749.294955      ...         29253.523633   \n",
       "min         0.000000       0.000000      ...             0.000000   \n",
       "25%         0.000000     418.000000      ...           622.500000   \n",
       "50%      2024.000000    6279.000000      ...          4373.000000   \n",
       "75%      9982.500000   25384.500000      ...         16810.500000   \n",
       "max    336218.000000  667226.000000      ...        547147.000000   \n",
       "\n",
       "              Week44         Week45         Week46         Week47  \\\n",
       "count    1275.000000    1275.000000    1275.000000    1275.000000   \n",
       "mean    10880.016471    9369.428235    8956.124706    9583.287059   \n",
       "std     24283.426121   22619.675055   21577.699170   22787.558980   \n",
       "min         0.000000       0.000000       0.000000       0.000000   \n",
       "25%         0.000000       0.000000       0.000000       0.000000   \n",
       "50%      3555.000000    2852.000000    2518.000000    2633.000000   \n",
       "75%     12837.500000   10571.500000    9219.000000   10104.500000   \n",
       "max    554049.000000  549871.000000  529063.000000  534634.000000   \n",
       "\n",
       "              Week48         Week49         Week50         Week51  \\\n",
       "count    1275.000000    1275.000000    1275.000000    1275.000000   \n",
       "mean    11130.280784   13879.662745   14266.894118   10084.778039   \n",
       "std     25713.935543   32825.291777   32147.934363   27421.623229   \n",
       "min         0.000000       0.000000       0.000000       0.000000   \n",
       "25%       417.000000    1070.500000    1350.500000     645.500000   \n",
       "50%      3998.000000    5242.000000    5125.000000    2967.000000   \n",
       "75%     11903.500000   14753.500000   14591.500000    9503.500000   \n",
       "max    506125.000000  517352.000000  524823.000000  516755.000000   \n",
       "\n",
       "              Week52  \n",
       "count    1275.000000  \n",
       "mean    15305.047843  \n",
       "std     34553.161918  \n",
       "min         0.000000  \n",
       "25%      1433.500000  \n",
       "50%      5116.000000  \n",
       "75%     15432.000000  \n",
       "max    518525.000000  \n",
       "\n",
       "[8 rows x 52 columns]"
      ]
     },
     "execution_count": 1,
     "metadata": {},
     "output_type": "execute_result"
    }
   ],
   "source": [
    "import pandas as pd\n",
    "import matplotlib.pyplot as plt\n",
    "import matplotlib.patches as mpatches\n",
    "import seaborn as sns\n",
    "from statsmodels.tsa.arima_model import ARIMA\n",
    "import numpy as np\n",
    "from pandas.plotting import autocorrelation_plot\n",
    "import datetime\n",
    "import warnings\n",
    "from sklearn.metrics import mean_squared_error\n",
    "#warnings.filterwarnings('ignore')\n",
    "\n",
    "#reading the dataset\n",
    "farmers_df = pd.read_csv(\"Mock Data.csv\",index_col=\"Farmer No.\",thousands=',')\n",
    "farmers_df.describe()"
   ]
  },
  {
   "cell_type": "markdown",
   "metadata": {},
   "source": [
    "###  Calculating number of missing weeks and dropping farmers with more than 20% of the weeks missing"
   ]
  },
  {
   "cell_type": "code",
   "execution_count": 2,
   "metadata": {
    "collapsed": true
   },
   "outputs": [],
   "source": [
    "farmers_df['Missing Weeks'] = farmers_df.apply( lambda s : s.value_counts().get(0,0), axis=1)\n",
    "farmer_filtered_df = farmers_df[farmers_df['Missing Weeks'] < np.round(52*.20)].copy()\n",
    "farmer_filtered_df.drop(['Missing Weeks'], inplace=True, axis=1)"
   ]
  },
  {
   "cell_type": "markdown",
   "metadata": {},
   "source": [
    "###  Plotting data to check if any trend"
   ]
  },
  {
   "cell_type": "code",
   "execution_count": 4,
   "metadata": {},
   "outputs": [
    {
     "data": {
      "image/png": "[encoded data removed]",
      "text/plain": [
       "<matplotlib.figure.Figure at 0x1c13b0a198>"
      ]
     },
     "metadata": {},
     "output_type": "display_data"
    }
   ],
   "source": [
    "plt.plot(farmer_filtered_df.sum(axis=0).values)\n",
    "\n",
    "\n",
    "plt.ylabel('Farmers Revenue')\n",
    "green_patch = mpatches.Patch(color='green', label='Farmers revenue by week')\n",
    "plt.legend(handles=[green_patch])\n",
    "import matplotlib.pyplot as plt\n",
    "\n",
    "plt.show()"
   ]
  },
  {
   "cell_type": "markdown",
   "metadata": {},
   "source": [
    "###  Plotting distribution of data which is right skewed"
   ]
  },
  {
   "cell_type": "code",
   "execution_count": 5,
   "metadata": {},
   "outputs": [
    {
     "data": {
      "image/png": "[encoded data removed]",
      "text/plain": [
       "<matplotlib.figure.Figure at 0x10c280ac8>"
      ]
     },
     "metadata": {},
     "output_type": "display_data"
    }
   ],
   "source": [
    "sns.set(color_codes=True)\n",
    "farmers_weekly_revenue = farmer_filtered_df.sum(axis=1)/52\n",
    "green_patch = mpatches.Patch(color='green', label='Farmers distribution by revenue/week')\n",
    "plt.legend(handles=[green_patch])\n",
    "sns.distplot(farmers_weekly_revenue)\n",
    "\n",
    "_ = plt.xlabel('Farmers Weekly Revenue')\n",
    "\n",
    "plt.show()"
   ]
  },
  {
   "cell_type": "markdown",
   "metadata": {},
   "source": [
    "###  Plotting ECDF to check the proportions and numbers"
   ]
  },
  {
   "cell_type": "code",
   "execution_count": 6,
   "metadata": {},
   "outputs": [
    {
     "data": {
      "image/png": "[encoded data removed]",
      "text/plain": [
       "<matplotlib.figure.Figure at 0x10c280978>"
      ]
     },
     "metadata": {},
     "output_type": "display_data"
    }
   ],
   "source": [
    "def ecdf(data):\n",
    "    \"\"\"Compute ECDF for a one-dimensional array of measurements.\"\"\"\n",
    "\n",
    "    # Number of data points: n\n",
    "    n = len(data)\n",
    "\n",
    "    # x-data for the ECDF: x\n",
    "    x = np.sort(data)\n",
    "\n",
    "    # y-data for the ECDF: y\n",
    "    y = np.arange(1,n+1) / n\n",
    "    return x, y\n",
    "\n",
    "farm_x, farm_y = ecdf(farmers_weekly_revenue)\n",
    "\n",
    "_ = plt.plot(farm_x, farm_y, linestyle='none', marker = '.')\n",
    "_ = plt.margins(0.02)\n",
    "_ = plt.xlabel('Farmers Weekly Revenue')\n",
    "_ = plt.ylabel('ECDF')\n",
    "\n",
    "plt.show()"
   ]
  },
  {
   "cell_type": "markdown",
   "metadata": {},
   "source": [
    "###  Generating dates required for Model"
   ]
  },
  {
   "cell_type": "code",
   "execution_count": 8,
   "metadata": {
    "collapsed": true
   },
   "outputs": [],
   "source": [
    "dates = []\n",
    "for week in range(1,53):\n",
    "    week = \"2017-W\"+str(week)\n",
    "    dates.append(datetime.datetime.strptime(week + '-0', \"%Y-W%W-%w\").date())"
   ]
  },
  {
   "cell_type": "markdown",
   "metadata": {},
   "source": [
    "###  Function evaluation model's performance using mean squared error"
   ]
  },
  {
   "cell_type": "code",
   "execution_count": 9,
   "metadata": {
    "collapsed": true
   },
   "outputs": [],
   "source": [
    "def evaluate_arima_model(train_X,test_X, arima_order):\n",
    "    # prepare training dataset\n",
    "    history = np.log(np.array([val for index,val in train_X.iteritems()])+1).tolist()\n",
    "    test = np.log(np.array([val for index,val in test_X.iteritems()])+1).tolist()\n",
    "    # make predictions\n",
    "    predictions = list()\n",
    "    for t in range(len(test)):\n",
    "        # fit model\n",
    "        model = ARIMA(history, order=arima_order)\n",
    "        model_fit = model.fit(disp=False)\n",
    "        # one step forecast\n",
    "        yhat = model_fit.forecast()[0]\n",
    "        # store forecast and ob\n",
    "        predictions.append(yhat)\n",
    "        history.append(test[t])\n",
    "    # calculate out of sample error\n",
    "    error = mean_squared_error(test, predictions)\n",
    "    return error"
   ]
  },
  {
   "cell_type": "markdown",
   "metadata": {},
   "source": [
    "###  Performing Grid Search "
   ]
  },
  {
   "cell_type": "code",
   "execution_count": 10,
   "metadata": {
    "collapsed": true
   },
   "outputs": [],
   "source": [
    "def evaluate_models(train_ds,test_ds, p_values, d_values, q_values):\n",
    "    best_score, best_cfg = float(\"inf\"), None\n",
    "    \n",
    "    for p in p_values:\n",
    "        for d in d_values:\n",
    "            for q in q_values:\n",
    "                order = (p,d,q)\n",
    "                try:\n",
    "                    mse = evaluate_arima_model(train_ds,test_ds, order)\n",
    "                    \n",
    "                    if mse < best_score:\n",
    "                        best_score, best_cfg = mse, order\n",
    "                    print('ARIMA%s MSE=%.3f' % (order,mse))\n",
    "                except:\n",
    "                    continue\n",
    "    print('Best ARIMA%s MSE=%.3f' % (best_cfg, best_score))\n",
    "    return best_cfg"
   ]
  },
  {
   "cell_type": "markdown",
   "metadata": {},
   "source": [
    "###  Optimizing for all the time series using Gridsearch for the values of p,d,q"
   ]
  },
  {
   "cell_type": "code",
   "execution_count": 13,
   "metadata": {
    "collapsed": true
   },
   "outputs": [],
   "source": [
    "def optimize_arima_hyperparams():\n",
    "    train_series = pd.Series()\n",
    "    test_series = pd.Series()\n",
    "    train_size = int(np.round(.75*len(farmer_filtered_df.columns)))\n",
    "    p_values = [0, 1, 2, 4,5]\n",
    "    d_values = range(0, 3)\n",
    "    q_values = range(0, 6)\n",
    "    warnings.filterwarnings(\"ignore\")\n",
    "    orders= {}\n",
    "    i = 0\n",
    "    for index, row in farmer_filtered_df.iterrows():\n",
    "        train_series = pd.Series(np.array(row[farmer_filtered_df.columns[:train_size].values].values, dtype=float), index=dates[:train_size])\n",
    "        test_series = pd.Series(np.array(row[farmer_filtered_df.columns[train_size:]].values, dtype=float), index=dates[train_size:])\n",
    "        i = i + 1\n",
    "        print(i)\n",
    "        orders[str(index)] = evaluate_models(train_series,test_series, p_values, d_values, q_values)\n",
    "    print(orders)"
   ]
  },
  {
   "cell_type": "markdown",
   "metadata": {},
   "source": [
    "###  Loading optimized params and best error values from pickle files"
   ]
  },
  {
   "cell_type": "code",
   "execution_count": 12,
   "metadata": {},
   "outputs": [],
   "source": [
    "import pickle\n",
    "orders= pickle.load(open(\"orders.pkl\", \"rb\"))\n",
    "errors= pickle.load(open(\"errors.pkl\", \"rb\"))"
   ]
  },
  {
   "cell_type": "markdown",
   "metadata": {},
   "source": [
    "###  Forecasting for each time series"
   ]
  },
  {
   "cell_type": "code",
   "execution_count": 105,
   "metadata": {
    "collapsed": true
   },
   "outputs": [],
   "source": [
    "def forecast_next_13_weeks(historical_data, arima_order):\n",
    "    # make predictions\n",
    "    predictions = list()\n",
    "    model = ARIMA(historical_data, order=arima_order)\n",
    "    model_fit = model.fit(disp=False)\n",
    "    if(arima_order[1] != 0):\n",
    "        predictions = model_fit.predict(52, 64, typ='levels')\n",
    "    else:\n",
    "        predictions = model_fit.predict(52, 64)\n",
    "    return list(predictions)"
   ]
  },
  {
   "cell_type": "code",
   "execution_count": 131,
   "metadata": {},
   "outputs": [],
   "source": [
    "forecasted_revenues = pd.DataFrame(columns=['forecasted_week'+str(x) for x in range(1,14)]+['Farmer No.','Error'])\n",
    "for index, row in farmer_filtered_df.iterrows():\n",
    "    order = (orders[str(index)]['p'],orders[str(index)]['d'],orders[str(index)]['q'])\n",
    "    farmer_row = np.log(np.array([float(val) for val in row.values])+1)\n",
    "    warnings.filterwarnings('ignore')\n",
    "    try:\n",
    "        predictions = np.exp(forecast_next_13_weeks(farmer_row,order))\n",
    "        forecastVal = [pred for pred in predictions] + [index,np.exp(errors[str(index)])]\n",
    "        forecasted_revenues.loc[len(forecasted_revenues)] = forecastVal\n",
    "    except:\n",
    "        continue"
   ]
  },
  {
   "cell_type": "code",
   "execution_count": 132,
   "metadata": {},
   "outputs": [],
   "source": [
    "forecasted_revenues.set_index('Farmer No.', inplace=True)"
   ]
  },
  {
   "cell_type": "code",
   "execution_count": 133,
   "metadata": {},
   "outputs": [],
   "source": [
    "final_farmers_df = pd.merge(farmer_filtered_df, forecasted_revenues, left_index=True, right_index=True, how='inner')"
   ]
  },
  {
   "cell_type": "code",
   "execution_count": 247,
   "metadata": {},
   "outputs": [],
   "source": [
    "final_farmers_df['Missing Weeks'] = final_farmers_df[final_farmers_df.columns[:52]].apply( lambda s : s.value_counts().get(0,0), axis=1)"
   ]
  },
  {
   "cell_type": "code",
   "execution_count": 248,
   "metadata": {},
   "outputs": [],
   "source": [
    "final_farmers_df['Error'] = final_farmers_df['Error'].round()"
   ]
  },
  {
   "cell_type": "markdown",
   "metadata": {},
   "source": [
    "###  Calculating Rating Scores"
   ]
  },
  {
   "cell_type": "code",
   "execution_count": 249,
   "metadata": {},
   "outputs": [],
   "source": [
    "def calculate_rating_scores(farmer_val,base):\n",
    "    return base/farmer_val\n",
    "final_farmers_df['Certainity Score'] = [calculate_rating_scores(row['Error'],0.4) for index, row in final_farmers_df.iterrows()]\n",
    "final_farmers_df['Novelity Score'] = [calculate_rating_scores(row['Missing Weeks']+1,0.2) for index, row in final_farmers_df.iterrows()]\n",
    "final_farmers_df['Mean Forecasted Revenue'] = final_farmers_df[final_farmers_df.columns[52:65]].mean(axis=1)"
   ]
  },
  {
   "cell_type": "code",
   "execution_count": 250,
   "metadata": {},
   "outputs": [],
   "source": [
    "ninty_percentile = np.percentile(final_farmers_df['Mean Forecasted Revenue'],90)\n",
    "final_farmers_df['Value Score'] = 0.0\n",
    "final_farmers_df['Value Score'] = final_farmers_df['Mean Forecasted Revenue'] > ninty_percentile"
   ]
  },
  {
   "cell_type": "code",
   "execution_count": 251,
   "metadata": {},
   "outputs": [],
   "source": [
    "timeseries = np.arange(0,13,1)    \n",
    "final_farmers_df['Stability Trend Score']  = [np.corrcoef(x,timeseries)[0][1]*.3 for x in final_farmers_df[final_farmers_df.columns[52:65]].values]\n",
    "final_farmers_df['Farmer Rating'] = final_farmers_df[['Stability Trend Score','Certainity Score','Novelity Score','Value Score']].sum(axis=1) "
   ]
  },
  {
   "cell_type": "code",
   "execution_count": 252,
   "metadata": {},
   "outputs": [],
   "source": [
    "final_farmers_df['Eligibility'] = False\n",
    "final_farmers_df['Eligibility']  = final_farmers_df['Farmer Rating'] >= .5"
   ]
  },
  {
   "cell_type": "markdown",
   "metadata": {},
   "source": [
    "###  Calculating loan amounts for eligible farmers"
   ]
  },
  {
   "cell_type": "code",
   "execution_count": 255,
   "metadata": {},
   "outputs": [],
   "source": [
    "def calculate_loan_amt(farmer_revenue):\n",
    "    loan = 0.0\n",
    "    if farmer_revenue >= np.percentile(final_farmers_df['Mean Forecasted Revenue'],90):\n",
    "            loan = np.round(farmer_revenue*.35*13)\n",
    "    elif farmer_revenue >= np.percentile(final_farmers_df['Mean Forecasted Revenue'],50):\n",
    "            loan = np.round(farmer_revenue*.30*13)\n",
    "    else:\n",
    "            loan = np.round(farmer_revenue*.20*13)\n",
    "    return loan"
   ]
  },
  {
   "cell_type": "code",
   "execution_count": 260,
   "metadata": {},
   "outputs": [],
   "source": [
    "loans = []\n",
    "for index, row in final_farmers_df.iterrows():\n",
    "    if(row['Eligibility'] == True):\n",
    "          loans.append(calculate_loan_amt(row['Mean Forecasted Revenue']))\n",
    "    else:\n",
    "        loans.append(0.0)\n",
    "final_farmers_df['Loan Amt.'] = loans"
   ]
  },
  {
   "cell_type": "code",
   "execution_count": 261,
   "metadata": {
    "collapsed": true
   },
   "outputs": [],
   "source": [
    "final_farmers_df.to_csv('Results.csv')"
   ]
  }
 ],
 "metadata": {
  "kernelspec": {
   "display_name": "Python 3",
   "language": "python",
   "name": "python3"
  },
  "language_info": {
   "codemirror_mode": {
    "name": "ipython",
    "version": 3
   },
   "file_extension": ".py",
   "mimetype": "text/x-python",
   "name": "python",
   "nbconvert_exporter": "python",
   "pygments_lexer": "ipython3",
   "version": "3.6.3"
  }
 },
 "nbformat": 4,
 "nbformat_minor": 2
}
